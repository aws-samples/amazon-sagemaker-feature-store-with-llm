{
 "cells": [
  {
   "cell_type": "markdown",
   "id": "615c130f-44e9-4d6c-b533-97864431c49e",
   "metadata": {
    "tags": []
   },
   "source": [
    "#### This notebook has been tested with SageMaker Studio Notebooks, with Data science 3.0 and Python 3 environment"
   ]
  },
  {
   "cell_type": "markdown",
   "source": [
    "## Set up your environment\n",
    "\n",
    "To complete this example, we must install several Python dependencies."
   ],
   "metadata": {
    "collapsed": false
   },
   "id": "6b40f3a532c90292"
  },
  {
   "cell_type": "code",
   "execution_count": 194,
   "outputs": [
    {
     "name": "stdout",
     "output_type": "stream",
     "text": [
      "\u001B[33mWARNING: Running pip as the 'root' user can result in broken permissions and conflicting behaviour with the system package manager. It is recommended to use a virtual environment instead: https://pip.pypa.io/warnings/venv\u001B[0m\u001B[33m\n",
      "\u001B[0m"
     ]
    }
   ],
   "source": [
    "!pip install -q langchain==0.0.266"
   ],
   "metadata": {
    "collapsed": false
   },
   "id": "3357a1a1-d39d-4f86-b686-b06c9a892569"
  },
  {
   "cell_type": "markdown",
   "source": [
    "To deploy the LLM, we leverage Amazon SageMaker Jumpstart, following the blog post [Llama 2 foundation models from Meta are now available in Amazon SageMaker JumpStart](https://aws.amazon.com/blogs/machine-learning/llama-2-foundation-models-from-meta-are-now-available-in-amazon-sagemaker-jumpstart/). Please provide the name of your endpoint after deployment for confirmation. Also, ensure that your endpoint is located in the same region as the notebook. \n",
    "\n",
    "Please make sure you followed the blog and to deploy the correct model.\n",
    "\n",
    "<img src=\"./imgs/jumpstart.png\" alt=\"jumpstart\" style=\"width: 400px;\"/>\n"
   ],
   "metadata": {
    "collapsed": false
   },
   "id": "a7ca373498dc83d2"
  },
  {
   "cell_type": "code",
   "execution_count": 195,
   "outputs": [
    {
     "name": "stdout",
     "output_type": "stream",
     "text": [
      "us-east-1\n",
      "jumpstart-dft-meta-textgeneration-llama-2-7b-f\n"
     ]
    }
   ],
   "source": [
    "import boto3\n",
    "aws_region = boto3.Session().region_name\n",
    "print(aws_region)\n",
    "endpoint_name = \"jumpstart-dft-meta-textgeneration-llama-2-7b-f\"\n",
    "print(endpoint_name)"
   ],
   "metadata": {
    "collapsed": false
   },
   "id": "14f6bc0c-7aaa-46a2-9e48-dea3ee0cd868"
  },
  {
   "cell_type": "markdown",
   "source": [
    "## Creat your prompts\n",
    "\n",
    "The input passed to a large language model is referred to as a \"prompt\". A PromptTemplate handles how this input text is dynamically formed. LangChain offers various utilities and abstractions to simplify the process of building, modifying, and interacting with prompts. \n",
    "\n",
    "This example demonstrates a prompt that incorporates user preferences, allowing the large language model to have a context of what attributes are most relevant to the user and generating an email based on the context."
   ],
   "metadata": {
    "collapsed": false
   },
   "id": "e6d1171eccb1809"
  },
  {
   "cell_type": "code",
   "execution_count": 196,
   "id": "eb3b99ef-847c-4b6b-9559-95e39804fe05",
   "metadata": {
    "tags": []
   },
   "outputs": [],
   "source": [
    "from langchain import PromptTemplate\n",
    "\n",
    "prompt_template = \"\"\"\n",
    "\n",
    "Our company, \"Classic Cinema,\" frequently promotes movies that we aim to recommend to our customers. This month, we have several popular movies on promotion.\n",
    "\n",
    "As an AI agent, you are tasked to assist \"Classic Cinema\" in crafting an email campaign to recommend relevant movies to users. The recommendations should adhere to several guidelines, including contextual relevance, ensuring the recommendations are strictly from our promotional movie list. Additionally, the recommendations should align with user preferences, suggesting items that are relevant and in harmony with the user's preferred categories. You are to provide precisely three top recommended movies. Finally, please draft the email to reflect the tone of the user's preferred categories. The email should not exceed 200 words.\n",
    "\n",
    "The recommended movies should be sourced from this contextual relevance movie list: \n",
    "{promotion_movie_list}.\n",
    "\n",
    "The user has expressed interest in {user_preference}. \n",
    "\n",
    "Please ensure the recommendations are relevant, and the tone of the email reflects the tastes of those interested in the {user_preference} movie category.\n",
    "\n",
    "Ensure the letter appeals to those interested in the {user_preference} movie category. \n",
    "Email body should start with Dear [Name], and keep the email campaign within a 200 word limit. \n",
    "\n",
    "\n",
    "\"\"\"\n",
    "prompt = PromptTemplate.from_template(prompt_template)"
   ]
  },
  {
   "cell_type": "markdown",
   "source": [
    "## Integrate the PromptTemplate with FeatureStore\n",
    "\n",
    "The missing part from previous prompt is the user preference.\n",
    "\n",
    "Here's a demonstration of integrating Amazon SageMaker FeatureStore to create a prompt to describe user preferences:\n",
    "\n",
    "1. Fetch the user preference from the FeatureStore:\n",
    "2. Rank user preferences\n",
    "3. Generate a formatted prompt:\n",
    "\n"
   ],
   "metadata": {
    "collapsed": false
   },
   "id": "b7dcdb3964fc4f55"
  },
  {
   "cell_type": "code",
   "execution_count": 197,
   "id": "de782908-4b65-4321-998d-b995ce8350ed",
   "metadata": {
    "tags": []
   },
   "outputs": [],
   "source": [
    "from langchain.prompts import StringPromptTemplate\n",
    "import pandas as pd\n",
    "\n",
    "class FeatureStorePromptTemplate(StringPromptTemplate):\n",
    "    \n",
    "    feature_group_name = 'user-profile-feature-group'\n",
    "    promotion_list_path = './movie-meta-data/promotion_movie.csv'\n",
    "    \n",
    "    \n",
    "    def format(self, **kwargs) -> str:\n",
    "        user_id = kwargs.pop(\"user_id\")\n",
    "        feature_record = self.fetch_user_preference_from_feature_store(user_id)\n",
    "        user_preference = self.rank_user_preference(feature_record)\n",
    "        \n",
    "        \n",
    "        kwargs[\"promotion_movie_list\"] = self.read_promotion_list()\n",
    "        kwargs[\"user_preference\"] = user_preference\n",
    "        return prompt.format(**kwargs)\n",
    "    \n",
    "    \n",
    "    def fetch_user_preference_from_feature_store(self, user_id):\n",
    "        \n",
    "        boto_session = boto3.Session()\n",
    "        featurestore_runtime_client = boto_session.client('sagemaker-featurestore-runtime')\n",
    "        feature_record = featurestore_runtime_client.get_record(FeatureGroupName=self.feature_group_name, \n",
    "                                                        RecordIdentifierValueAsString=str(user_id))\n",
    "\n",
    "        return feature_record['Record']\n",
    "    \n",
    "    \n",
    "    def rank_user_preference(self, data) -> str:\n",
    "        # Transform the data into a dictionary\n",
    "        data_dict = {item['FeatureName']: item['ValueAsString'] for item in data}\n",
    "\n",
    "        # Create a pandas DataFrame from the dictionary\n",
    "        df = pd.DataFrame([data_dict])\n",
    "        # Drop the last column\n",
    "        df = df.drop(\"EventTime\", axis=1)\n",
    "        \n",
    "        # Set 'User_ID' as the index\n",
    "        df.set_index('User_ID', inplace=True)\n",
    "        # Convert the data to floats\n",
    "        df = df.astype(float)\n",
    "        \n",
    "        # Transpose the dataframe, then apply nlargest() on each column\n",
    "        top_categories = df.transpose().apply(lambda x: x.nlargest(3).index.tolist(), axis=0)\n",
    "\n",
    "        # Join the top 3 categories into a single string for each user\n",
    "        top_categories = top_categories.apply(', '.join, axis=1)\n",
    "\n",
    "        # Convert the series to a dataframe\n",
    "        top_categories_df = top_categories.to_frame(name='Top_3_Categories')        \n",
    "        \n",
    "        nested_list = top_categories_df.values.tolist()\n",
    "        comma_separated_categories = ', '.join([item for sublist in nested_list for item in sublist])\n",
    "\n",
    "        return comma_separated_categories\n",
    "        \n",
    "        \n",
    "    def read_promotion_list(self,) -> str:\n",
    "        df = pd.read_csv(self.promotion_list_path)\n",
    "        df = df.drop('ID', axis=1)\n",
    "        \n",
    "        output_string = ''\n",
    "        for _, row in df.iterrows():\n",
    "            row_str = ' '.join(f'{col}: {val}' for col, val in zip(df.columns, row))\n",
    "            output_string += row_str + '\\n'\n",
    "\n",
    "        return output_string"
   ]
  },
  {
   "cell_type": "code",
   "execution_count": 198,
   "id": "38c7f03d-aa85-48e5-bc50-a809264696c7",
   "metadata": {
    "tags": []
   },
   "outputs": [],
   "source": [
    "prompt_template = FeatureStorePromptTemplate(input_variables=[\"user_id\"])"
   ]
  },
  {
   "cell_type": "code",
   "execution_count": 199,
   "id": "3e0f0c24-0808-47d3-ba4c-17a645f17e90",
   "metadata": {
    "tags": []
   },
   "outputs": [
    {
     "name": "stdout",
     "output_type": "stream",
     "text": [
      "\n",
      "\n",
      "Our company, \"Classic Cinema,\" frequently promotes movies that we aim to recommend to our customers. This month, we have several popular movies on promotion.\n",
      "\n",
      "As an AI agent, you are tasked to assist \"Classic Cinema\" in crafting an email campaign to recommend relevant movies to users. The recommendations should adhere to several guidelines, including contextual relevance, ensuring the recommendations are strictly from our promotional movie list. Additionally, the recommendations should align with user preferences, suggesting items that are relevant and in harmony with the user's preferred categories. You are to provide precisely three top recommended movies. Finally, please draft the email to reflect the tone of the user's preferred categories. The email should not exceed 200 words.\n",
      "\n",
      "The recommended movies should be sourced from this contextual relevance movie list: \n",
      "Movie Title: The Shawshank Redemption Description: Wrongfully accused Andy Dufresne is sentenced to life in Shawshank prison, where he befriends Red. The film narrates his journey of resilience, hope, and quest for freedom. Genre: Drama/Crime Release Year: 1994\n",
      "Movie Title: The Godfather Description: The film depicts the transformation of Michael Corleone from a reluctant outsider to a ruthless mafia boss. It explores the complexities of a powerful Italian-American crime family led by patriarch Don Vito Corleone. Genre: Crime/Drama Release Year: 1972\n",
      "Movie Title: The Dark Knight Description: Batman, with the help of ally Lt. Jim Gordon and DA Harvey Dent, takes on the underworld to keep Gotham City safe. Things escalate when the Joker causes havoc, pushing Batman to the edge. Genre: Action/Crime/Drama Release Year: 2008\n",
      "Movie Title: Pulp Fiction Description: This Quentin Tarantino masterpiece intertwines multiple storylines featuring mobsters, a boxer, a gangster's wife, and a pair of diner bandits. The film is known for its eclectic dialogue, ironic mix of humor, and non-linear storyline. Genre: Crime/Drama Release Year: 1994\n",
      "Movie Title: Fight Club Description: A disillusioned man suffering from insomnia meets a strange soap salesman named Tyler Durden and together they form a fight club as a form of radical psychotherapy. The film is a provocative exploration of consumer culture, identity, and reality. Genre: Drama Release Year: 1999\n",
      "Movie Title: Forrest Gump Description: The movie follows the life of Forrest Gump, a man with a low IQ but good intentions, as he journeys through major historical events in the 20th century. Along the way, he wins medals, becomes a ping-pong champion, creates a famous shrimp fishing fleet, and inspires people with his childlike optimism. Genre: Drama/Romance Release Year: 1994\n",
      "Movie Title: Inception Description: Dom Cobb is a thief with the ability to enter people's dreams and steal their secrets. Cobb gets a chance at redemption when he is offered a seemingly impossible task: to plant an idea in someone's mind. Genre: Action/Adventure/Sci-Fi Release Year: 2010\n",
      "Movie Title: The Matrix Description: A computer hacker learns from mysterious rebels about the true nature of his reality and his role in the war against its controllers. The film explores philosophical themes like the nature of reality, perception, and freedom. Genre: Action/Sci-Fi Release Year: 1999\n",
      "Movie Title: The Lord of the Rings: The Fellowship of the Ring Description: A young hobbit, Frodo, is entrusted with an ancient ring and must journey across Middle-earth to destroy it in the fires of Mount Doom. He is joined by a fellowship of companions who must thwart the Dark Lord Sauron's plans. Genre: Adventure/Drama/Fantasy Release Year: 2001\n",
      "Movie Title: Star Wars: Episode V - The Empire Strikes Back Description: After the rebels have been brutally overrun by the Empire on their newly established base, Luke Skywalker takes advanced Jedi training with Master Yoda, while his friends are pursued by Darth Vader as part of his plan to capture Luke. Genre: Action/Adventure/Fantasy Release Year: 1980\n",
      "Movie Title: The Silence of the Lambs Description: Clarice Starling, a young FBI trainee, seeks the advice of the imprisoned Dr. Hannibal Lecter, a brilliant psychiatrist and cannibalistic serial killer to apprehend another serial killer, known only as \"Buffalo Bill\". Genre: Crime/Drama/Thriller Release Year: 1991\n",
      "Movie Title: Interstellar Description: A group of explorers make use of a newly discovered wormhole to surpass the limitations on human space travel and conquer the vast distances involved in an interstellar voyage. The film investigates concepts of time, love, and humanity's place in the cosmos. Genre: Adventure/Drama/Sci-Fi Release Year: 2014\n",
      "Movie Title: The Usual Suspects Description: A sole survivor tells of the twisty events leading up to a horrific gun battle on a boat, which began when five criminals met at a seemingly random police lineup. Genre: Crime/Mystery/Thriller Release Year: 1995\n",
      "Movie Title: The Lion King Description: A young lion prince flees his kingdom only to learn the true meaning of responsibility and bravery. Genre: Animation/Adventure/Drama Release Year: 1994\n",
      "Movie Title: Back to the Future Description: Marty McFly, a 17-year-old high school student, is accidentally sent thirty years into the past in a time-traveling DeLorean invented by his close friend, the eccentric scientist Doc Brown. Genre: Adventure/Comedy/Sci-Fi Release Year: 1985\n",
      "Movie Title: The Pianist Description: A Polish Jewish musician struggles to survive the destruction of the Warsaw ghetto of World War II. Genre: Biography/Drama/Music Release Year: 2002\n",
      "Movie Title: Gladiator Description: A former Roman General sets out to exact vengeance against the corrupt emperor who murdered his family and sent him into slavery. Genre: Action/Adventure/Drama Release Year: 2000\n",
      "Movie Title: Schindler's List Description: In German-occupied Polandduring World War II, industrialist Oskar Schindler gradually becomes concerned for his Jewish workforce after witnessing their persecution by the Nazis. Genre: Biography/Drama/History Release Year: 1993\n",
      "Movie Title: Saving Private Ryan Description: Following the Normandy Landings, a group of U.S. soldiers go behind enemy lines to retrieve a paratrooper whose brothers have been killed in action. Genre: Drama/War Release Year: 1998\n",
      "Movie Title: American History X Description: A former neo-nazi skinhead tries to prevent his younger brother from going down the same wrong path that he did. Genre: Drama/Crime Release Year: 1998\n",
      "Movie Title: The Departed Description: An undercover cop and a mole in the police try to identify each other while infiltrating an Irish gang in South Boston. Genre: Crime/Drama/Thriller Release Year: 2006\n",
      "Movie Title: The Prestige Description: Two stage magicians engage in competitive one-upmanship in an attempt to create the ultimate stage illusion. Genre: Drama/Mystery/Sci-Fi Release Year: 2006\n",
      "Movie Title: The Green Mile Description: The lives of guards on Death Row are affected by one of their charges: a black man accused of child murder and rape, yet who has a mysterious gift. Genre: Crime/Drama/Fantasy Release Year: 1999\n",
      "Movie Title: The Godfather: Part II Description: The early life and career of Vito Corleone in 1920s New York City is portrayed, while his son, Michael, expands and tightens his grip on the family crime syndicate. Genre: Crime/Drama Release Year: 1974\n",
      "Movie Title: 12 Angry Men Description: A jury holdout attempts to prevent a miscarriage of justice by forcing his colleagues to reconsider the evidence. Genre: Drama Release Year: 1957\n",
      ".\n",
      "\n",
      "The user has expressed interest in Sci-Fi, Adventure, War. \n",
      "\n",
      "Please ensure the recommendations are relevant, and the tone of the email reflects the tastes of those interested in the Sci-Fi, Adventure, War movie category.\n",
      "\n",
      "Ensure the letter appeals to those interested in the Sci-Fi, Adventure, War movie category. \n",
      "Email body should start with Dear [Name], and keep the email campaign within a 200 word limit. \n"
     ]
    }
   ],
   "source": [
    "print(prompt_template.format(user_id=4))"
   ]
  },
  {
   "cell_type": "markdown",
   "source": [
    "## End to End Demo with Langchain\n",
    "\n",
    "Now that we have a well-crafted prompt to communicate with the large language model using the FeatureStore prompt, it's time to invoke the model and generate an email.\n"
   ],
   "metadata": {
    "collapsed": false
   },
   "id": "673ec81277f210ff"
  },
  {
   "cell_type": "code",
   "execution_count": 200,
   "id": "fe3543a6-c63d-41d8-9512-9b0f697945d4",
   "metadata": {},
   "outputs": [],
   "source": [
    "from langchain import PromptTemplate, SagemakerEndpoint\n",
    "from langchain.llms.sagemaker_endpoint import LLMContentHandler\n",
    "import json\n",
    "\n",
    "class ContentHandler(LLMContentHandler):\n",
    "    content_type = \"application/json\"\n",
    "    accepts = \"application/json\"\n",
    "\n",
    "    def transform_input(self, prompt: str, model_kwargs: dict) -> bytes:\n",
    "        input_str = json.dumps({\"inputs\" : [[{\"role\" : \"system\",\n",
    "        \"content\" : \"You are a kind robot.\"},\n",
    "        {\"role\" : \"user\", \"content\" : prompt}]],\n",
    "        \"parameters\" : {**model_kwargs}})\n",
    "        return input_str.encode('utf-8')\n",
    "    \n",
    "    def transform_output(self, output: bytes) -> str:\n",
    "        response_json = json.loads(output.read().decode(\"utf-8\"))\n",
    "        return response_json[0][\"generation\"][\"content\"]\n",
    "    \n",
    "\n",
    "parameters = {\n",
    "    \"max_new_tokens\": 1000\n",
    "}\n",
    "\n",
    "content_handler = ContentHandler()\n",
    "\n",
    "sm_llm = SagemakerEndpoint(\n",
    "    endpoint_name = endpoint_name, \n",
    "    region_name = aws_region, \n",
    "    model_kwargs = parameters,\n",
    "    endpoint_kwargs={\"CustomAttributes\": 'accept_eula=true'},\n",
    "    content_handler = content_handler,\n",
    ")"
   ]
  },
  {
   "cell_type": "code",
   "execution_count": 202,
   "id": "cbff9b2c-538e-4ca9-a688-dc594e476d58",
   "metadata": {
    "tags": []
   },
   "outputs": [],
   "source": [
    "from langchain.chains import LLMChain\n",
    "\n",
    "llmchain = LLMChain(llm=sm_llm, prompt=prompt_template)\n",
    "email_content = llmchain.run({\n",
    "    'user_id': 4,\n",
    "    })\n",
    "\n",
    "# OUTPUT\n",
    "# PodConneXion"
   ]
  },
  {
   "cell_type": "code",
   "execution_count": 203,
   "id": "89ae9843-6735-4928-87c5-a496ddac5744",
   "metadata": {
    "tags": []
   },
   "outputs": [
    {
     "name": "stdout",
     "output_type": "stream",
     "text": [
      " Subject: Explore the Best of Sci-Fi, Adventure, and War Movies with Classic Cinema!\n",
      "\n",
      "Dear [Name],\n",
      "\n",
      "At Classic Cinema, we understand your love for movies that transport you to new worlds, fill your hearts with adventure, and leave you on the edge of your seat. That's why we're excited to share our top recommended movies from the Sci-Fi, Adventure, and War genres.\n",
      "\n",
      "1. Interstellar (2014) - A visually stunning and thought-provoking journey through space, exploring the vastness of the universe and the power of love.\n",
      "2. The Lord of the Rings: The Fellowship of the Ring (2001) - Join Frodo and his companions on an epic quest to destroy the One Ring and save Middle-earth from the darkness of Sauron's rule.\n",
      "3. Saving Private Ryan (1998) - Experience the intense and emotional story of a group of soldiers on a dangerous mission to find and rescue a paratrooper whose brothers have been killed in action.\n",
      "\n",
      "These movies are sure to ignite your passion for adventure, exploration, and the human spirit. As a valued member of the Classic Cinema community, we hope you enjoy these recommendations and discover new favorites.\n",
      "\n",
      "Warm regards,\n",
      "\n",
      "[Your Name]\n",
      "Classic Cinema Team\n"
     ]
    }
   ],
   "source": [
    "print(email_content)"
   ]
  },
  {
   "cell_type": "code",
   "execution_count": null,
   "id": "4bd3729c-3df5-466e-966e-878c56e33535",
   "metadata": {},
   "outputs": [],
   "source": []
  },
  {
   "cell_type": "code",
   "execution_count": null,
   "id": "4c623926-ea89-4da6-b6ac-1f92d80806fe",
   "metadata": {},
   "outputs": [],
   "source": []
  }
 ],
 "metadata": {
  "availableInstances": [
   {
    "_defaultOrder": 0,
    "_isFastLaunch": true,
    "category": "General purpose",
    "gpuNum": 0,
    "hideHardwareSpecs": false,
    "memoryGiB": 4,
    "name": "ml.t3.medium",
    "vcpuNum": 2
   },
   {
    "_defaultOrder": 1,
    "_isFastLaunch": false,
    "category": "General purpose",
    "gpuNum": 0,
    "hideHardwareSpecs": false,
    "memoryGiB": 8,
    "name": "ml.t3.large",
    "vcpuNum": 2
   },
   {
    "_defaultOrder": 2,
    "_isFastLaunch": false,
    "category": "General purpose",
    "gpuNum": 0,
    "hideHardwareSpecs": false,
    "memoryGiB": 16,
    "name": "ml.t3.xlarge",
    "vcpuNum": 4
   },
   {
    "_defaultOrder": 3,
    "_isFastLaunch": false,
    "category": "General purpose",
    "gpuNum": 0,
    "hideHardwareSpecs": false,
    "memoryGiB": 32,
    "name": "ml.t3.2xlarge",
    "vcpuNum": 8
   },
   {
    "_defaultOrder": 4,
    "_isFastLaunch": true,
    "category": "General purpose",
    "gpuNum": 0,
    "hideHardwareSpecs": false,
    "memoryGiB": 8,
    "name": "ml.m5.large",
    "vcpuNum": 2
   },
   {
    "_defaultOrder": 5,
    "_isFastLaunch": false,
    "category": "General purpose",
    "gpuNum": 0,
    "hideHardwareSpecs": false,
    "memoryGiB": 16,
    "name": "ml.m5.xlarge",
    "vcpuNum": 4
   },
   {
    "_defaultOrder": 6,
    "_isFastLaunch": false,
    "category": "General purpose",
    "gpuNum": 0,
    "hideHardwareSpecs": false,
    "memoryGiB": 32,
    "name": "ml.m5.2xlarge",
    "vcpuNum": 8
   },
   {
    "_defaultOrder": 7,
    "_isFastLaunch": false,
    "category": "General purpose",
    "gpuNum": 0,
    "hideHardwareSpecs": false,
    "memoryGiB": 64,
    "name": "ml.m5.4xlarge",
    "vcpuNum": 16
   },
   {
    "_defaultOrder": 8,
    "_isFastLaunch": false,
    "category": "General purpose",
    "gpuNum": 0,
    "hideHardwareSpecs": false,
    "memoryGiB": 128,
    "name": "ml.m5.8xlarge",
    "vcpuNum": 32
   },
   {
    "_defaultOrder": 9,
    "_isFastLaunch": false,
    "category": "General purpose",
    "gpuNum": 0,
    "hideHardwareSpecs": false,
    "memoryGiB": 192,
    "name": "ml.m5.12xlarge",
    "vcpuNum": 48
   },
   {
    "_defaultOrder": 10,
    "_isFastLaunch": false,
    "category": "General purpose",
    "gpuNum": 0,
    "hideHardwareSpecs": false,
    "memoryGiB": 256,
    "name": "ml.m5.16xlarge",
    "vcpuNum": 64
   },
   {
    "_defaultOrder": 11,
    "_isFastLaunch": false,
    "category": "General purpose",
    "gpuNum": 0,
    "hideHardwareSpecs": false,
    "memoryGiB": 384,
    "name": "ml.m5.24xlarge",
    "vcpuNum": 96
   },
   {
    "_defaultOrder": 12,
    "_isFastLaunch": false,
    "category": "General purpose",
    "gpuNum": 0,
    "hideHardwareSpecs": false,
    "memoryGiB": 8,
    "name": "ml.m5d.large",
    "vcpuNum": 2
   },
   {
    "_defaultOrder": 13,
    "_isFastLaunch": false,
    "category": "General purpose",
    "gpuNum": 0,
    "hideHardwareSpecs": false,
    "memoryGiB": 16,
    "name": "ml.m5d.xlarge",
    "vcpuNum": 4
   },
   {
    "_defaultOrder": 14,
    "_isFastLaunch": false,
    "category": "General purpose",
    "gpuNum": 0,
    "hideHardwareSpecs": false,
    "memoryGiB": 32,
    "name": "ml.m5d.2xlarge",
    "vcpuNum": 8
   },
   {
    "_defaultOrder": 15,
    "_isFastLaunch": false,
    "category": "General purpose",
    "gpuNum": 0,
    "hideHardwareSpecs": false,
    "memoryGiB": 64,
    "name": "ml.m5d.4xlarge",
    "vcpuNum": 16
   },
   {
    "_defaultOrder": 16,
    "_isFastLaunch": false,
    "category": "General purpose",
    "gpuNum": 0,
    "hideHardwareSpecs": false,
    "memoryGiB": 128,
    "name": "ml.m5d.8xlarge",
    "vcpuNum": 32
   },
   {
    "_defaultOrder": 17,
    "_isFastLaunch": false,
    "category": "General purpose",
    "gpuNum": 0,
    "hideHardwareSpecs": false,
    "memoryGiB": 192,
    "name": "ml.m5d.12xlarge",
    "vcpuNum": 48
   },
   {
    "_defaultOrder": 18,
    "_isFastLaunch": false,
    "category": "General purpose",
    "gpuNum": 0,
    "hideHardwareSpecs": false,
    "memoryGiB": 256,
    "name": "ml.m5d.16xlarge",
    "vcpuNum": 64
   },
   {
    "_defaultOrder": 19,
    "_isFastLaunch": false,
    "category": "General purpose",
    "gpuNum": 0,
    "hideHardwareSpecs": false,
    "memoryGiB": 384,
    "name": "ml.m5d.24xlarge",
    "vcpuNum": 96
   },
   {
    "_defaultOrder": 20,
    "_isFastLaunch": false,
    "category": "General purpose",
    "gpuNum": 0,
    "hideHardwareSpecs": true,
    "memoryGiB": 0,
    "name": "ml.geospatial.interactive",
    "supportedImageNames": [
     "sagemaker-geospatial-v1-0"
    ],
    "vcpuNum": 0
   },
   {
    "_defaultOrder": 21,
    "_isFastLaunch": true,
    "category": "Compute optimized",
    "gpuNum": 0,
    "hideHardwareSpecs": false,
    "memoryGiB": 4,
    "name": "ml.c5.large",
    "vcpuNum": 2
   },
   {
    "_defaultOrder": 22,
    "_isFastLaunch": false,
    "category": "Compute optimized",
    "gpuNum": 0,
    "hideHardwareSpecs": false,
    "memoryGiB": 8,
    "name": "ml.c5.xlarge",
    "vcpuNum": 4
   },
   {
    "_defaultOrder": 23,
    "_isFastLaunch": false,
    "category": "Compute optimized",
    "gpuNum": 0,
    "hideHardwareSpecs": false,
    "memoryGiB": 16,
    "name": "ml.c5.2xlarge",
    "vcpuNum": 8
   },
   {
    "_defaultOrder": 24,
    "_isFastLaunch": false,
    "category": "Compute optimized",
    "gpuNum": 0,
    "hideHardwareSpecs": false,
    "memoryGiB": 32,
    "name": "ml.c5.4xlarge",
    "vcpuNum": 16
   },
   {
    "_defaultOrder": 25,
    "_isFastLaunch": false,
    "category": "Compute optimized",
    "gpuNum": 0,
    "hideHardwareSpecs": false,
    "memoryGiB": 72,
    "name": "ml.c5.9xlarge",
    "vcpuNum": 36
   },
   {
    "_defaultOrder": 26,
    "_isFastLaunch": false,
    "category": "Compute optimized",
    "gpuNum": 0,
    "hideHardwareSpecs": false,
    "memoryGiB": 96,
    "name": "ml.c5.12xlarge",
    "vcpuNum": 48
   },
   {
    "_defaultOrder": 27,
    "_isFastLaunch": false,
    "category": "Compute optimized",
    "gpuNum": 0,
    "hideHardwareSpecs": false,
    "memoryGiB": 144,
    "name": "ml.c5.18xlarge",
    "vcpuNum": 72
   },
   {
    "_defaultOrder": 28,
    "_isFastLaunch": false,
    "category": "Compute optimized",
    "gpuNum": 0,
    "hideHardwareSpecs": false,
    "memoryGiB": 192,
    "name": "ml.c5.24xlarge",
    "vcpuNum": 96
   },
   {
    "_defaultOrder": 29,
    "_isFastLaunch": true,
    "category": "Accelerated computing",
    "gpuNum": 1,
    "hideHardwareSpecs": false,
    "memoryGiB": 16,
    "name": "ml.g4dn.xlarge",
    "vcpuNum": 4
   },
   {
    "_defaultOrder": 30,
    "_isFastLaunch": false,
    "category": "Accelerated computing",
    "gpuNum": 1,
    "hideHardwareSpecs": false,
    "memoryGiB": 32,
    "name": "ml.g4dn.2xlarge",
    "vcpuNum": 8
   },
   {
    "_defaultOrder": 31,
    "_isFastLaunch": false,
    "category": "Accelerated computing",
    "gpuNum": 1,
    "hideHardwareSpecs": false,
    "memoryGiB": 64,
    "name": "ml.g4dn.4xlarge",
    "vcpuNum": 16
   },
   {
    "_defaultOrder": 32,
    "_isFastLaunch": false,
    "category": "Accelerated computing",
    "gpuNum": 1,
    "hideHardwareSpecs": false,
    "memoryGiB": 128,
    "name": "ml.g4dn.8xlarge",
    "vcpuNum": 32
   },
   {
    "_defaultOrder": 33,
    "_isFastLaunch": false,
    "category": "Accelerated computing",
    "gpuNum": 4,
    "hideHardwareSpecs": false,
    "memoryGiB": 192,
    "name": "ml.g4dn.12xlarge",
    "vcpuNum": 48
   },
   {
    "_defaultOrder": 34,
    "_isFastLaunch": false,
    "category": "Accelerated computing",
    "gpuNum": 1,
    "hideHardwareSpecs": false,
    "memoryGiB": 256,
    "name": "ml.g4dn.16xlarge",
    "vcpuNum": 64
   },
   {
    "_defaultOrder": 35,
    "_isFastLaunch": false,
    "category": "Accelerated computing",
    "gpuNum": 1,
    "hideHardwareSpecs": false,
    "memoryGiB": 61,
    "name": "ml.p3.2xlarge",
    "vcpuNum": 8
   },
   {
    "_defaultOrder": 36,
    "_isFastLaunch": false,
    "category": "Accelerated computing",
    "gpuNum": 4,
    "hideHardwareSpecs": false,
    "memoryGiB": 244,
    "name": "ml.p3.8xlarge",
    "vcpuNum": 32
   },
   {
    "_defaultOrder": 37,
    "_isFastLaunch": false,
    "category": "Accelerated computing",
    "gpuNum": 8,
    "hideHardwareSpecs": false,
    "memoryGiB": 488,
    "name": "ml.p3.16xlarge",
    "vcpuNum": 64
   },
   {
    "_defaultOrder": 38,
    "_isFastLaunch": false,
    "category": "Accelerated computing",
    "gpuNum": 8,
    "hideHardwareSpecs": false,
    "memoryGiB": 768,
    "name": "ml.p3dn.24xlarge",
    "vcpuNum": 96
   },
   {
    "_defaultOrder": 39,
    "_isFastLaunch": false,
    "category": "Memory Optimized",
    "gpuNum": 0,
    "hideHardwareSpecs": false,
    "memoryGiB": 16,
    "name": "ml.r5.large",
    "vcpuNum": 2
   },
   {
    "_defaultOrder": 40,
    "_isFastLaunch": false,
    "category": "Memory Optimized",
    "gpuNum": 0,
    "hideHardwareSpecs": false,
    "memoryGiB": 32,
    "name": "ml.r5.xlarge",
    "vcpuNum": 4
   },
   {
    "_defaultOrder": 41,
    "_isFastLaunch": false,
    "category": "Memory Optimized",
    "gpuNum": 0,
    "hideHardwareSpecs": false,
    "memoryGiB": 64,
    "name": "ml.r5.2xlarge",
    "vcpuNum": 8
   },
   {
    "_defaultOrder": 42,
    "_isFastLaunch": false,
    "category": "Memory Optimized",
    "gpuNum": 0,
    "hideHardwareSpecs": false,
    "memoryGiB": 128,
    "name": "ml.r5.4xlarge",
    "vcpuNum": 16
   },
   {
    "_defaultOrder": 43,
    "_isFastLaunch": false,
    "category": "Memory Optimized",
    "gpuNum": 0,
    "hideHardwareSpecs": false,
    "memoryGiB": 256,
    "name": "ml.r5.8xlarge",
    "vcpuNum": 32
   },
   {
    "_defaultOrder": 44,
    "_isFastLaunch": false,
    "category": "Memory Optimized",
    "gpuNum": 0,
    "hideHardwareSpecs": false,
    "memoryGiB": 384,
    "name": "ml.r5.12xlarge",
    "vcpuNum": 48
   },
   {
    "_defaultOrder": 45,
    "_isFastLaunch": false,
    "category": "Memory Optimized",
    "gpuNum": 0,
    "hideHardwareSpecs": false,
    "memoryGiB": 512,
    "name": "ml.r5.16xlarge",
    "vcpuNum": 64
   },
   {
    "_defaultOrder": 46,
    "_isFastLaunch": false,
    "category": "Memory Optimized",
    "gpuNum": 0,
    "hideHardwareSpecs": false,
    "memoryGiB": 768,
    "name": "ml.r5.24xlarge",
    "vcpuNum": 96
   },
   {
    "_defaultOrder": 47,
    "_isFastLaunch": false,
    "category": "Accelerated computing",
    "gpuNum": 1,
    "hideHardwareSpecs": false,
    "memoryGiB": 16,
    "name": "ml.g5.xlarge",
    "vcpuNum": 4
   },
   {
    "_defaultOrder": 48,
    "_isFastLaunch": false,
    "category": "Accelerated computing",
    "gpuNum": 1,
    "hideHardwareSpecs": false,
    "memoryGiB": 32,
    "name": "ml.g5.2xlarge",
    "vcpuNum": 8
   },
   {
    "_defaultOrder": 49,
    "_isFastLaunch": false,
    "category": "Accelerated computing",
    "gpuNum": 1,
    "hideHardwareSpecs": false,
    "memoryGiB": 64,
    "name": "ml.g5.4xlarge",
    "vcpuNum": 16
   },
   {
    "_defaultOrder": 50,
    "_isFastLaunch": false,
    "category": "Accelerated computing",
    "gpuNum": 1,
    "hideHardwareSpecs": false,
    "memoryGiB": 128,
    "name": "ml.g5.8xlarge",
    "vcpuNum": 32
   },
   {
    "_defaultOrder": 51,
    "_isFastLaunch": false,
    "category": "Accelerated computing",
    "gpuNum": 1,
    "hideHardwareSpecs": false,
    "memoryGiB": 256,
    "name": "ml.g5.16xlarge",
    "vcpuNum": 64
   },
   {
    "_defaultOrder": 52,
    "_isFastLaunch": false,
    "category": "Accelerated computing",
    "gpuNum": 4,
    "hideHardwareSpecs": false,
    "memoryGiB": 192,
    "name": "ml.g5.12xlarge",
    "vcpuNum": 48
   },
   {
    "_defaultOrder": 53,
    "_isFastLaunch": false,
    "category": "Accelerated computing",
    "gpuNum": 4,
    "hideHardwareSpecs": false,
    "memoryGiB": 384,
    "name": "ml.g5.24xlarge",
    "vcpuNum": 96
   },
   {
    "_defaultOrder": 54,
    "_isFastLaunch": false,
    "category": "Accelerated computing",
    "gpuNum": 8,
    "hideHardwareSpecs": false,
    "memoryGiB": 768,
    "name": "ml.g5.48xlarge",
    "vcpuNum": 192
   },
   {
    "_defaultOrder": 55,
    "_isFastLaunch": false,
    "category": "Accelerated computing",
    "gpuNum": 8,
    "hideHardwareSpecs": false,
    "memoryGiB": 1152,
    "name": "ml.p4d.24xlarge",
    "vcpuNum": 96
   },
   {
    "_defaultOrder": 56,
    "_isFastLaunch": false,
    "category": "Accelerated computing",
    "gpuNum": 8,
    "hideHardwareSpecs": false,
    "memoryGiB": 1152,
    "name": "ml.p4de.24xlarge",
    "vcpuNum": 96
   }
  ],
  "instance_type": "ml.t3.medium",
  "kernelspec": {
   "display_name": "Python 3 (Data Science 3.0)",
   "language": "python",
   "name": "python3__SAGEMAKER_INTERNAL__arn:aws:sagemaker:us-east-1:081325390199:image/sagemaker-data-science-310-v1"
  },
  "language_info": {
   "codemirror_mode": {
    "name": "ipython",
    "version": 3
   },
   "file_extension": ".py",
   "mimetype": "text/x-python",
   "name": "python",
   "nbconvert_exporter": "python",
   "pygments_lexer": "ipython3",
   "version": "3.10.6"
  }
 },
 "nbformat": 4,
 "nbformat_minor": 5
}
